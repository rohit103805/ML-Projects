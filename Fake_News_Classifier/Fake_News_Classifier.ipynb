{
 "metadata": {
  "language_info": {
   "codemirror_mode": {
    "name": "ipython",
    "version": 3
   },
   "file_extension": ".py",
   "mimetype": "text/x-python",
   "name": "python",
   "nbconvert_exporter": "python",
   "pygments_lexer": "ipython3",
   "version": "3.8.8"
  },
  "orig_nbformat": 2,
  "kernelspec": {
   "name": "python388jvsc74a57bd0dc106fe3c02396f33534c61e51628a7be9a935337a06f05fddd82b0e8d71430d",
   "display_name": "Python 3.8.8 64-bit"
  },
  "metadata": {
   "interpreter": {
    "hash": "dc106fe3c02396f33534c61e51628a7be9a935337a06f05fddd82b0e8d71430d"
   }
  }
 },
 "nbformat": 4,
 "nbformat_minor": 2,
 "cells": [
  {
   "cell_type": "code",
   "execution_count": 1,
   "metadata": {},
   "outputs": [],
   "source": [
    "# Importing the dataset"
   ]
  },
  {
   "cell_type": "code",
   "execution_count": 2,
   "metadata": {},
   "outputs": [],
   "source": [
    "import pandas as pd\n",
    "Train_dat=pd.read_csv('D:/ML_Projects/Fake_News_Classifier/train.csv')"
   ]
  },
  {
   "cell_type": "code",
   "execution_count": 3,
   "metadata": {},
   "outputs": [
    {
     "output_type": "execute_result",
     "data": {
      "text/plain": [
       "   id                                              title              author  \\\n",
       "0   0  House Dem Aide: We Didn’t Even See Comey’s Let...       Darrell Lucus   \n",
       "1   1  FLYNN: Hillary Clinton, Big Woman on Campus - ...     Daniel J. Flynn   \n",
       "2   2                  Why the Truth Might Get You Fired  Consortiumnews.com   \n",
       "3   3  15 Civilians Killed In Single US Airstrike Hav...     Jessica Purkiss   \n",
       "4   4  Iranian woman jailed for fictional unpublished...      Howard Portnoy   \n",
       "\n",
       "                                                text  label  \n",
       "0  House Dem Aide: We Didn’t Even See Comey’s Let...      1  \n",
       "1  Ever get the feeling your life circles the rou...      0  \n",
       "2  Why the Truth Might Get You Fired October 29, ...      1  \n",
       "3  Videos 15 Civilians Killed In Single US Airstr...      1  \n",
       "4  Print \\nAn Iranian woman has been sentenced to...      1  "
      ],
      "text/html": "<div>\n<style scoped>\n    .dataframe tbody tr th:only-of-type {\n        vertical-align: middle;\n    }\n\n    .dataframe tbody tr th {\n        vertical-align: top;\n    }\n\n    .dataframe thead th {\n        text-align: right;\n    }\n</style>\n<table border=\"1\" class=\"dataframe\">\n  <thead>\n    <tr style=\"text-align: right;\">\n      <th></th>\n      <th>id</th>\n      <th>title</th>\n      <th>author</th>\n      <th>text</th>\n      <th>label</th>\n    </tr>\n  </thead>\n  <tbody>\n    <tr>\n      <th>0</th>\n      <td>0</td>\n      <td>House Dem Aide: We Didn’t Even See Comey’s Let...</td>\n      <td>Darrell Lucus</td>\n      <td>House Dem Aide: We Didn’t Even See Comey’s Let...</td>\n      <td>1</td>\n    </tr>\n    <tr>\n      <th>1</th>\n      <td>1</td>\n      <td>FLYNN: Hillary Clinton, Big Woman on Campus - ...</td>\n      <td>Daniel J. Flynn</td>\n      <td>Ever get the feeling your life circles the rou...</td>\n      <td>0</td>\n    </tr>\n    <tr>\n      <th>2</th>\n      <td>2</td>\n      <td>Why the Truth Might Get You Fired</td>\n      <td>Consortiumnews.com</td>\n      <td>Why the Truth Might Get You Fired October 29, ...</td>\n      <td>1</td>\n    </tr>\n    <tr>\n      <th>3</th>\n      <td>3</td>\n      <td>15 Civilians Killed In Single US Airstrike Hav...</td>\n      <td>Jessica Purkiss</td>\n      <td>Videos 15 Civilians Killed In Single US Airstr...</td>\n      <td>1</td>\n    </tr>\n    <tr>\n      <th>4</th>\n      <td>4</td>\n      <td>Iranian woman jailed for fictional unpublished...</td>\n      <td>Howard Portnoy</td>\n      <td>Print \\nAn Iranian woman has been sentenced to...</td>\n      <td>1</td>\n    </tr>\n  </tbody>\n</table>\n</div>"
     },
     "metadata": {},
     "execution_count": 3
    }
   ],
   "source": [
    "Train_dat.head()"
   ]
  },
  {
   "cell_type": "code",
   "execution_count": 4,
   "metadata": {},
   "outputs": [],
   "source": [
    "#Dropping Nan Values\n",
    "Train_dat=Train_dat.dropna()"
   ]
  },
  {
   "cell_type": "code",
   "execution_count": 5,
   "metadata": {},
   "outputs": [],
   "source": [
    "# Getting X and Y\n",
    "X=Train_dat.drop('label', axis=1)\n",
    "Y=Train_dat['label']"
   ]
  },
  {
   "cell_type": "code",
   "execution_count": 6,
   "metadata": {},
   "outputs": [
    {
     "output_type": "stream",
     "name": "stdout",
     "text": [
      "(18285, 4)\n(18285,)\n"
     ]
    }
   ],
   "source": [
    "print(X.shape)\n",
    "print(Y.shape)"
   ]
  },
  {
   "cell_type": "code",
   "execution_count": 7,
   "metadata": {},
   "outputs": [],
   "source": [
    "# Importing the Model libraries"
   ]
  },
  {
   "cell_type": "code",
   "execution_count": 8,
   "metadata": {},
   "outputs": [],
   "source": [
    "import tensorflow as tf\n",
    "from tensorflow.keras.layers import Embedding, LSTM, Dense, Bidirectional, Dropout\n",
    "from tensorflow.keras.preprocessing.sequence import pad_sequences\n",
    "from tensorflow.keras.models import Sequential\n",
    "from tensorflow.keras.preprocessing.text import one_hot"
   ]
  },
  {
   "cell_type": "code",
   "execution_count": 9,
   "metadata": {},
   "outputs": [],
   "source": [
    "# One Hot Representation"
   ]
  },
  {
   "cell_type": "code",
   "execution_count": 10,
   "metadata": {},
   "outputs": [],
   "source": [
    "voc_size=5000"
   ]
  },
  {
   "cell_type": "code",
   "execution_count": 11,
   "metadata": {},
   "outputs": [],
   "source": [
    "message=X.copy()\n",
    "message.reset_index(inplace=True)"
   ]
  },
  {
   "cell_type": "code",
   "execution_count": 12,
   "metadata": {},
   "outputs": [],
   "source": [
    "import nltk\n",
    "import re\n",
    "from nltk.corpus import stopwords"
   ]
  },
  {
   "cell_type": "code",
   "execution_count": 13,
   "metadata": {},
   "outputs": [
    {
     "output_type": "stream",
     "name": "stderr",
     "text": [
      "[nltk_data] Downloading package stopwords to C:\\Users\\ROHIT\n[nltk_data]     MANDAL\\AppData\\Roaming\\nltk_data...\n[nltk_data]   Package stopwords is already up-to-date!\n"
     ]
    },
    {
     "output_type": "execute_result",
     "data": {
      "text/plain": [
       "True"
      ]
     },
     "metadata": {},
     "execution_count": 13
    }
   ],
   "source": [
    "nltk.download('stopwords')"
   ]
  },
  {
   "cell_type": "code",
   "execution_count": 14,
   "metadata": {},
   "outputs": [],
   "source": [
    "from nltk.stem.porter import PorterStemmer\n",
    "ps=PorterStemmer()\n",
    "corpus=[]\n",
    "for i in range(0, len(message)):\n",
    "    review=re.sub('[^A-Za-z]', ' ', message['title'][i])\n",
    "    review=review.lower()\n",
    "    review=review.split()\n",
    "    review = [ps.stem(word) for word in review if not word in stopwords.words('english')]\n",
    "    review = ' '.join(review)\n",
    "    corpus.append(review)"
   ]
  },
  {
   "cell_type": "code",
   "execution_count": 15,
   "metadata": {},
   "outputs": [
    {
     "output_type": "stream",
     "name": "stdout",
     "text": [
      "18285\n"
     ]
    }
   ],
   "source": [
    "onehot_repr=[one_hot(words,voc_size)for words in corpus] \n",
    "\n",
    "print(len(onehot_repr))"
   ]
  },
  {
   "cell_type": "code",
   "execution_count": 16,
   "metadata": {},
   "outputs": [],
   "source": [
    "# Embedding Representation (Padding)"
   ]
  },
  {
   "cell_type": "code",
   "execution_count": 17,
   "metadata": {},
   "outputs": [
    {
     "output_type": "stream",
     "name": "stdout",
     "text": [
      "[[   0    0    0 ... 1202 3706 1655]\n [   0    0    0 ... 2150  886 2907]\n [   0    0    0 ... 2552 1560 2768]\n ...\n [   0    0    0 ...  322  606 2474]\n [   0    0    0 ... 4285 3690 1301]\n [   0    0    0 ...  971 4964 4526]]\n"
     ]
    }
   ],
   "source": [
    "sent_length=20\n",
    "embedded_docs=pad_sequences(onehot_repr, padding='pre', maxlen=sent_length)\n",
    "print(embedded_docs)"
   ]
  },
  {
   "cell_type": "code",
   "execution_count": 18,
   "metadata": {},
   "outputs": [
    {
     "output_type": "execute_result",
     "data": {
      "text/plain": [
       "array([   0,    0,    0,    0,    0,   84, 3083, 3411,   92, 1290,  180,\n",
       "       3898,  501, 3782, 1976, 1812, 4221, 3787, 3631, 2907])"
      ]
     },
     "metadata": {},
     "execution_count": 18
    }
   ],
   "source": [
    "embedded_docs[5]"
   ]
  },
  {
   "cell_type": "code",
   "execution_count": 19,
   "metadata": {},
   "outputs": [],
   "source": [
    "# Creating the Model"
   ]
  },
  {
   "cell_type": "code",
   "execution_count": 20,
   "metadata": {},
   "outputs": [
    {
     "output_type": "execute_result",
     "data": {
      "text/plain": [
       "<bound method Model.summary of <tensorflow.python.keras.engine.sequential.Sequential object at 0x00000252885DC040>>"
      ]
     },
     "metadata": {},
     "execution_count": 20
    }
   ],
   "source": [
    "embedding_vector_features=40\n",
    "model1=Sequential()\n",
    "model1.add(Embedding(voc_size, embedding_vector_features, input_length=sent_length))\n",
    "model1.add(Bidirectional(LSTM(100)))\n",
    "model1.add(Dropout(0.3))\n",
    "model1.add(Dense(1, activation='sigmoid'))\n",
    "model1.compile(loss='binary_crossentropy', optimizer='adam', metrics=['accuracy'])\n",
    "model1.summary"
   ]
  },
  {
   "cell_type": "code",
   "execution_count": 21,
   "metadata": {},
   "outputs": [],
   "source": [
    "import numpy as np\n",
    "X_final=np.array(embedded_docs)\n",
    "Y_final=np.array(Y)"
   ]
  },
  {
   "cell_type": "code",
   "execution_count": 22,
   "metadata": {},
   "outputs": [],
   "source": [
    "# Splitting the dataset"
   ]
  },
  {
   "cell_type": "code",
   "execution_count": 23,
   "metadata": {},
   "outputs": [],
   "source": [
    "from sklearn.model_selection import train_test_split\n",
    "X_train, X_test, Y_train, Y_test=train_test_split(X_final, Y_final, test_size=0.33, random_state=42)"
   ]
  },
  {
   "cell_type": "code",
   "execution_count": 24,
   "metadata": {},
   "outputs": [],
   "source": [
    "# Model Training"
   ]
  },
  {
   "cell_type": "code",
   "execution_count": 25,
   "metadata": {},
   "outputs": [
    {
     "output_type": "stream",
     "name": "stdout",
     "text": [
      "Epoch 1/30\n",
      "192/192 [==============================] - 10s 37ms/step - loss: 0.4491 - accuracy: 0.7518 - val_loss: 0.2101 - val_accuracy: 0.9170\n",
      "Epoch 2/30\n",
      "192/192 [==============================] - 5s 24ms/step - loss: 0.1295 - accuracy: 0.9521 - val_loss: 0.2303 - val_accuracy: 0.9160\n",
      "Epoch 3/30\n",
      "192/192 [==============================] - 5s 24ms/step - loss: 0.0881 - accuracy: 0.9702 - val_loss: 0.2346 - val_accuracy: 0.9089\n",
      "Epoch 4/30\n",
      "192/192 [==============================] - 5s 25ms/step - loss: 0.0721 - accuracy: 0.9769 - val_loss: 0.3070 - val_accuracy: 0.9118\n",
      "Epoch 5/30\n",
      "192/192 [==============================] - 5s 26ms/step - loss: 0.0491 - accuracy: 0.9862 - val_loss: 0.3430 - val_accuracy: 0.9049\n",
      "Epoch 6/30\n",
      "192/192 [==============================] - 5s 25ms/step - loss: 0.0375 - accuracy: 0.9887 - val_loss: 0.3811 - val_accuracy: 0.9084\n",
      "Epoch 7/30\n",
      "192/192 [==============================] - 5s 26ms/step - loss: 0.0295 - accuracy: 0.9920 - val_loss: 0.4388 - val_accuracy: 0.9054\n",
      "Epoch 8/30\n",
      "192/192 [==============================] - 5s 26ms/step - loss: 0.0207 - accuracy: 0.9939 - val_loss: 0.4366 - val_accuracy: 0.9044\n",
      "Epoch 9/30\n",
      "192/192 [==============================] - 5s 25ms/step - loss: 0.0180 - accuracy: 0.9945 - val_loss: 0.4527 - val_accuracy: 0.9052\n",
      "Epoch 10/30\n",
      "192/192 [==============================] - 5s 25ms/step - loss: 0.0172 - accuracy: 0.9950 - val_loss: 0.4558 - val_accuracy: 0.9047\n",
      "Epoch 11/30\n",
      "192/192 [==============================] - 5s 26ms/step - loss: 0.0100 - accuracy: 0.9976 - val_loss: 0.5763 - val_accuracy: 0.9059\n",
      "Epoch 12/30\n",
      "192/192 [==============================] - 5s 26ms/step - loss: 0.0134 - accuracy: 0.9964 - val_loss: 0.6676 - val_accuracy: 0.8993\n",
      "Epoch 13/30\n",
      "192/192 [==============================] - 5s 25ms/step - loss: 0.0084 - accuracy: 0.9979 - val_loss: 0.6867 - val_accuracy: 0.9039\n",
      "Epoch 14/30\n",
      "192/192 [==============================] - 5s 25ms/step - loss: 0.0182 - accuracy: 0.9950 - val_loss: 0.5660 - val_accuracy: 0.9021\n",
      "Epoch 15/30\n",
      "192/192 [==============================] - 5s 25ms/step - loss: 0.0093 - accuracy: 0.9973 - val_loss: 0.5962 - val_accuracy: 0.9021\n",
      "Epoch 16/30\n",
      "192/192 [==============================] - 5s 25ms/step - loss: 0.0055 - accuracy: 0.9989 - val_loss: 0.7155 - val_accuracy: 0.9022\n",
      "Epoch 17/30\n",
      "192/192 [==============================] - 5s 26ms/step - loss: 0.0043 - accuracy: 0.9987 - val_loss: 0.7362 - val_accuracy: 0.9004\n",
      "Epoch 18/30\n",
      "192/192 [==============================] - 5s 26ms/step - loss: 0.0041 - accuracy: 0.9990 - val_loss: 0.7681 - val_accuracy: 0.9036\n",
      "Epoch 19/30\n",
      "192/192 [==============================] - 5s 25ms/step - loss: 0.0034 - accuracy: 0.9994 - val_loss: 0.8625 - val_accuracy: 0.8936\n",
      "Epoch 20/30\n",
      "192/192 [==============================] - 5s 25ms/step - loss: 0.0124 - accuracy: 0.9963 - val_loss: 0.7016 - val_accuracy: 0.9017\n",
      "Epoch 21/30\n",
      "192/192 [==============================] - 5s 25ms/step - loss: 0.0084 - accuracy: 0.9970 - val_loss: 0.7399 - val_accuracy: 0.9012\n",
      "Epoch 22/30\n",
      "192/192 [==============================] - 5s 26ms/step - loss: 0.0058 - accuracy: 0.9977 - val_loss: 0.7155 - val_accuracy: 0.8989\n",
      "Epoch 23/30\n",
      "192/192 [==============================] - 5s 25ms/step - loss: 0.0021 - accuracy: 0.9995 - val_loss: 0.7529 - val_accuracy: 0.8973\n",
      "Epoch 24/30\n",
      "192/192 [==============================] - 5s 26ms/step - loss: 0.0029 - accuracy: 0.9994 - val_loss: 0.7752 - val_accuracy: 0.9014\n",
      "Epoch 25/30\n",
      "192/192 [==============================] - 5s 25ms/step - loss: 5.7269e-04 - accuracy: 1.0000 - val_loss: 0.8114 - val_accuracy: 0.8998\n",
      "Epoch 26/30\n",
      "192/192 [==============================] - 5s 25ms/step - loss: 3.6769e-04 - accuracy: 1.0000 - val_loss: 0.8119 - val_accuracy: 0.9007\n",
      "Epoch 27/30\n",
      "192/192 [==============================] - 5s 25ms/step - loss: 2.7016e-04 - accuracy: 1.0000 - val_loss: 0.8202 - val_accuracy: 0.9014\n",
      "Epoch 28/30\n",
      "192/192 [==============================] - 5s 25ms/step - loss: 0.0022 - accuracy: 0.9998 - val_loss: 0.8360 - val_accuracy: 0.9017\n",
      "Epoch 29/30\n",
      "192/192 [==============================] - 5s 26ms/step - loss: 3.4724e-04 - accuracy: 1.0000 - val_loss: 0.8265 - val_accuracy: 0.9019\n",
      "Epoch 30/30\n",
      "192/192 [==============================] - 5s 26ms/step - loss: 1.9914e-04 - accuracy: 1.0000 - val_loss: 0.8478 - val_accuracy: 0.8996\n"
     ]
    },
    {
     "output_type": "execute_result",
     "data": {
      "text/plain": [
       "<tensorflow.python.keras.callbacks.History at 0x2528a075790>"
      ]
     },
     "metadata": {},
     "execution_count": 25
    }
   ],
   "source": [
    "model1.fit(X_train, Y_train, validation_data=(X_test, Y_test), epochs=30, batch_size=64)"
   ]
  },
  {
   "cell_type": "code",
   "execution_count": 26,
   "metadata": {},
   "outputs": [],
   "source": [
    "# Accuracy Score"
   ]
  },
  {
   "cell_type": "code",
   "execution_count": 27,
   "metadata": {},
   "outputs": [
    {
     "output_type": "stream",
     "name": "stderr",
     "text": [
      "C:\\Users\\ROHIT MANDAL\\AppData\\Local\\Programs\\Python\\Python38\\lib\\site-packages\\tensorflow\\python\\keras\\engine\\sequential.py:450: UserWarning: `model.predict_classes()` is deprecated and will be removed after 2021-01-01. Please use instead:* `np.argmax(model.predict(x), axis=-1)`,   if your model does multi-class classification   (e.g. if it uses a `softmax` last-layer activation).* `(model.predict(x) > 0.5).astype(\"int32\")`,   if your model does binary classification   (e.g. if it uses a `sigmoid` last-layer activation).\n  warnings.warn('`model.predict_classes()` is deprecated and '\n"
     ]
    },
    {
     "output_type": "execute_result",
     "data": {
      "text/plain": [
       "0.8995857497928749"
      ]
     },
     "metadata": {},
     "execution_count": 27
    }
   ],
   "source": [
    "from sklearn.metrics import accuracy_score\n",
    "Y_pred1=model1.predict_classes(X_test)\n",
    "accuracy_score(Y_test,Y_pred1)"
   ]
  }
 ]
}
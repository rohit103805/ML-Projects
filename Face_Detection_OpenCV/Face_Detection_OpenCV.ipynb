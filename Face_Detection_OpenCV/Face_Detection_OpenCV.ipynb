{
 "metadata": {
  "language_info": {
   "codemirror_mode": {
    "name": "ipython",
    "version": 3
   },
   "file_extension": ".py",
   "mimetype": "text/x-python",
   "name": "python",
   "nbconvert_exporter": "python",
   "pygments_lexer": "ipython3",
   "version": "3.8.8"
  },
  "orig_nbformat": 2,
  "kernelspec": {
   "name": "python388jvsc74a57bd0dc106fe3c02396f33534c61e51628a7be9a935337a06f05fddd82b0e8d71430d",
   "display_name": "Python 3.8.8 64-bit"
  },
  "metadata": {
   "interpreter": {
    "hash": "dc106fe3c02396f33534c61e51628a7be9a935337a06f05fddd82b0e8d71430d"
   }
  }
 },
 "nbformat": 4,
 "nbformat_minor": 2,
 "cells": [
  {
   "source": [
    "# Face Detection - OpenCV"
   ],
   "cell_type": "markdown",
   "metadata": {}
  },
  {
   "source": [
    "## 1. Importing the Libraries"
   ],
   "cell_type": "markdown",
   "metadata": {}
  },
  {
   "source": [
    "import cv2"
   ],
   "cell_type": "code",
   "metadata": {},
   "execution_count": 1,
   "outputs": []
  },
  {
   "source": [
    "## 2. Importing the cascades"
   ],
   "cell_type": "markdown",
   "metadata": {}
  },
  {
   "cell_type": "code",
   "execution_count": 2,
   "metadata": {},
   "outputs": [],
   "source": [
    "Face_cascade=cv2.CascadeClassifier('D:/ML_Projects/Face_Detection_OpenCV/haarcascade_frontalface_default.xml')\n",
    "Eye_cascade=cv2.CascadeClassifier('D:/ML_Projects/Face_Detection_OpenCV/haarcascade_eye.xml')"
   ]
  },
  {
   "source": [
    "## 3. Creating the Rectangles of Eyes and Face"
   ],
   "cell_type": "markdown",
   "metadata": {}
  },
  {
   "cell_type": "code",
   "execution_count": 3,
   "metadata": {},
   "outputs": [],
   "source": [
    "def detect(grey, original_image):\n",
    "    faces=Face_cascade.detectMultiScale(grey, 1.3, 5)\n",
    "    for (x, y, w, h) in faces:\n",
    "        cv2.rectangle(original_image, (x, y), (x+w, y+h), (0, 0, 255), 4)\n",
    "        sub_grey=grey[y:y+h, x:x+w]\n",
    "        sub_colour=original_image[y:y+h, x:x+w]\n",
    "        eyes=Eye_cascade.detectMultiScale(sub_grey, 1.1, 3)\n",
    "        for(ex, ey, ew, eh) in eyes:\n",
    "            cv2.rectangle(sub_colour, (ex, ey), (ex+ew, ey+eh), (255, 0, 0), 4)\n",
    "    return original_image"
   ]
  },
  {
   "source": [
    "## 4. Capturing Video"
   ],
   "cell_type": "markdown",
   "metadata": {}
  },
  {
   "cell_type": "code",
   "execution_count": 4,
   "metadata": {},
   "outputs": [],
   "source": [
    "Video_Capture=cv2.VideoCapture(0)\n",
    "while True:\n",
    "    _, original_image=Video_Capture.read()\n",
    "    grey=cv2.cvtColor(original_image, cv2.COLOR_BGR2GRAY)\n",
    "    canvas=detect(grey, original_image)\n",
    "    cv2.imshow('Video', canvas)\n",
    "    if cv2.waitKey(1) & 0xFF==ord('q'):\n",
    "        break\n",
    "Video_Capture.release()\n",
    "cv2.destroyAllWindows()"
   ]
  }
 ]
}
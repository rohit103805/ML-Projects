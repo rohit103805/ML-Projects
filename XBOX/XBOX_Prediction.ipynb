{
  "nbformat": 4,
  "nbformat_minor": 0,
  "metadata": {
    "colab": {
      "name": "XBOX Prediction",
      "provenance": [],
      "collapsed_sections": []
    },
    "kernelspec": {
      "display_name": "Python 3",
      "name": "python3"
    },
    "language_info": {
      "name": "python"
    }
  },
  "cells": [
    {
      "cell_type": "code",
      "metadata": {
        "id": "5L1Ob0KFxMLw"
      },
      "source": [
        "import numpy as np\n",
        "import pandas as pd\n",
        "import matplotlib.pyplot as plt"
      ],
      "execution_count": 1,
      "outputs": []
    },
    {
      "cell_type": "code",
      "metadata": {
        "id": "uYsC3cbPykTx"
      },
      "source": [
        "train_data = pd.read_csv('train.csv')\n",
        "validation_data = pd.read_csv('test.csv')"
      ],
      "execution_count": 2,
      "outputs": []
    },
    {
      "cell_type": "code",
      "metadata": {
        "id": "nMuJkNZuyqP1",
        "colab": {
          "base_uri": "https://localhost:8080/",
          "height": 193
        },
        "outputId": "dfa65015-7233-4737-ee90-c63bc8bd6212"
      },
      "source": [
        "train_data.head(3)"
      ],
      "execution_count": 3,
      "outputs": [
        {
          "output_type": "execute_result",
          "data": {
            "text/html": [
              "<div>\n",
              "<style scoped>\n",
              "    .dataframe tbody tr th:only-of-type {\n",
              "        vertical-align: middle;\n",
              "    }\n",
              "\n",
              "    .dataframe tbody tr th {\n",
              "        vertical-align: top;\n",
              "    }\n",
              "\n",
              "    .dataframe thead th {\n",
              "        text-align: right;\n",
              "    }\n",
              "</style>\n",
              "<table border=\"1\" class=\"dataframe\">\n",
              "  <thead>\n",
              "    <tr style=\"text-align: right;\">\n",
              "      <th></th>\n",
              "      <th>user</th>\n",
              "      <th>sku</th>\n",
              "      <th>category</th>\n",
              "      <th>query</th>\n",
              "      <th>click_time</th>\n",
              "      <th>query_time</th>\n",
              "    </tr>\n",
              "  </thead>\n",
              "  <tbody>\n",
              "    <tr>\n",
              "      <th>0</th>\n",
              "      <td>0001cd0d10bbc585c9ba287c963e00873d4c0bfd</td>\n",
              "      <td>2032076</td>\n",
              "      <td>abcat0701002</td>\n",
              "      <td>gears of war</td>\n",
              "      <td>2011-10-09 17:22:56.101</td>\n",
              "      <td>2011-10-09 17:21:42.917</td>\n",
              "    </tr>\n",
              "    <tr>\n",
              "      <th>1</th>\n",
              "      <td>00033dbced6acd3626c4b56ff5c55b8d69911681</td>\n",
              "      <td>9854804</td>\n",
              "      <td>abcat0701002</td>\n",
              "      <td>Gears of war</td>\n",
              "      <td>2011-09-25 13:35:42.198</td>\n",
              "      <td>2011-09-25 13:35:33.234</td>\n",
              "    </tr>\n",
              "    <tr>\n",
              "      <th>2</th>\n",
              "      <td>00033dbced6acd3626c4b56ff5c55b8d69911681</td>\n",
              "      <td>2670133</td>\n",
              "      <td>abcat0701002</td>\n",
              "      <td>Gears of war</td>\n",
              "      <td>2011-09-25 13:36:08.668</td>\n",
              "      <td>2011-09-25 13:35:33.234</td>\n",
              "    </tr>\n",
              "  </tbody>\n",
              "</table>\n",
              "</div>"
            ],
            "text/plain": [
              "                                       user  ...               query_time\n",
              "0  0001cd0d10bbc585c9ba287c963e00873d4c0bfd  ...  2011-10-09 17:21:42.917\n",
              "1  00033dbced6acd3626c4b56ff5c55b8d69911681  ...  2011-09-25 13:35:33.234\n",
              "2  00033dbced6acd3626c4b56ff5c55b8d69911681  ...  2011-09-25 13:35:33.234\n",
              "\n",
              "[3 rows x 6 columns]"
            ]
          },
          "metadata": {},
          "execution_count": 3
        }
      ]
    },
    {
      "cell_type": "code",
      "metadata": {
        "id": "wfusQHJ6ywKb",
        "colab": {
          "base_uri": "https://localhost:8080/"
        },
        "outputId": "fec4457f-d347-458f-af3f-3a2c26a5027c"
      },
      "source": [
        "train_data.info()"
      ],
      "execution_count": 4,
      "outputs": [
        {
          "output_type": "stream",
          "name": "stdout",
          "text": [
            "<class 'pandas.core.frame.DataFrame'>\n",
            "RangeIndex: 42365 entries, 0 to 42364\n",
            "Data columns (total 6 columns):\n",
            " #   Column      Non-Null Count  Dtype \n",
            "---  ------      --------------  ----- \n",
            " 0   user        42365 non-null  object\n",
            " 1   sku         42365 non-null  int64 \n",
            " 2   category    42365 non-null  object\n",
            " 3   query       42365 non-null  object\n",
            " 4   click_time  42365 non-null  object\n",
            " 5   query_time  42365 non-null  object\n",
            "dtypes: int64(1), object(5)\n",
            "memory usage: 1.9+ MB\n"
          ]
        }
      ]
    },
    {
      "cell_type": "code",
      "metadata": {
        "id": "_Pn28yfA6lU5",
        "colab": {
          "base_uri": "https://localhost:8080/",
          "height": 142
        },
        "outputId": "bd66bffd-1940-47b8-f566-5b3c17162c78"
      },
      "source": [
        "validation_data.head(3)"
      ],
      "execution_count": 5,
      "outputs": [
        {
          "output_type": "execute_result",
          "data": {
            "text/html": [
              "<div>\n",
              "<style scoped>\n",
              "    .dataframe tbody tr th:only-of-type {\n",
              "        vertical-align: middle;\n",
              "    }\n",
              "\n",
              "    .dataframe tbody tr th {\n",
              "        vertical-align: top;\n",
              "    }\n",
              "\n",
              "    .dataframe thead th {\n",
              "        text-align: right;\n",
              "    }\n",
              "</style>\n",
              "<table border=\"1\" class=\"dataframe\">\n",
              "  <thead>\n",
              "    <tr style=\"text-align: right;\">\n",
              "      <th></th>\n",
              "      <th>user</th>\n",
              "      <th>category</th>\n",
              "      <th>query</th>\n",
              "      <th>click_time</th>\n",
              "      <th>query_time</th>\n",
              "    </tr>\n",
              "  </thead>\n",
              "  <tbody>\n",
              "    <tr>\n",
              "      <th>0</th>\n",
              "      <td>00025eb02b249434554fe2cacd8562db325df127</td>\n",
              "      <td>abcat0701002</td>\n",
              "      <td>child eden</td>\n",
              "      <td>2011-09-02 13:05:24.146</td>\n",
              "      <td>2011-09-02 13:04:34.633</td>\n",
              "    </tr>\n",
              "    <tr>\n",
              "      <th>1</th>\n",
              "      <td>00033dbced6acd3626c4b56ff5c55b8d69911681</td>\n",
              "      <td>abcat0701002</td>\n",
              "      <td>Revelations</td>\n",
              "      <td>2011-09-25 13:38:14.74</td>\n",
              "      <td>2011-09-25 13:37:58.382</td>\n",
              "    </tr>\n",
              "    <tr>\n",
              "      <th>2</th>\n",
              "      <td>000548d17532b70071b7d59edd4797aed1823c60</td>\n",
              "      <td>abcat0701002</td>\n",
              "      <td>Gears of war</td>\n",
              "      <td>2011-09-16 17:34:43.596</td>\n",
              "      <td>2011-09-16 17:33:43.237</td>\n",
              "    </tr>\n",
              "  </tbody>\n",
              "</table>\n",
              "</div>"
            ],
            "text/plain": [
              "                                       user  ...               query_time\n",
              "0  00025eb02b249434554fe2cacd8562db325df127  ...  2011-09-02 13:04:34.633\n",
              "1  00033dbced6acd3626c4b56ff5c55b8d69911681  ...  2011-09-25 13:37:58.382\n",
              "2  000548d17532b70071b7d59edd4797aed1823c60  ...  2011-09-16 17:33:43.237\n",
              "\n",
              "[3 rows x 5 columns]"
            ]
          },
          "metadata": {},
          "execution_count": 5
        }
      ]
    },
    {
      "cell_type": "code",
      "metadata": {
        "id": "TZbPb36m6AUq",
        "colab": {
          "base_uri": "https://localhost:8080/"
        },
        "outputId": "66e6bb3c-fb78-4b96-b8b1-abc0200a8c0e"
      },
      "source": [
        "validation_data.info()"
      ],
      "execution_count": 6,
      "outputs": [
        {
          "output_type": "stream",
          "name": "stdout",
          "text": [
            "<class 'pandas.core.frame.DataFrame'>\n",
            "RangeIndex: 28241 entries, 0 to 28240\n",
            "Data columns (total 5 columns):\n",
            " #   Column      Non-Null Count  Dtype \n",
            "---  ------      --------------  ----- \n",
            " 0   user        28241 non-null  object\n",
            " 1   category    28241 non-null  object\n",
            " 2   query       28241 non-null  object\n",
            " 3   click_time  28241 non-null  object\n",
            " 4   query_time  28241 non-null  object\n",
            "dtypes: object(5)\n",
            "memory usage: 1.1+ MB\n"
          ]
        }
      ]
    },
    {
      "cell_type": "code",
      "metadata": {
        "id": "FLzF0M7o8H4h"
      },
      "source": [
        "from sklearn.preprocessing import LabelEncoder\n",
        "le=LabelEncoder()"
      ],
      "execution_count": 7,
      "outputs": []
    },
    {
      "cell_type": "code",
      "metadata": {
        "id": "lZ6o0d2S80zl"
      },
      "source": [
        "from sklearn.model_selection import train_test_split"
      ],
      "execution_count": 8,
      "outputs": []
    },
    {
      "cell_type": "code",
      "metadata": {
        "id": "4UffKcSV94ez",
        "colab": {
          "base_uri": "https://localhost:8080/"
        },
        "outputId": "a042373c-ccb8-435b-8cf7-a068d4d0df00"
      },
      "source": [
        "train_data.iloc[:, 3:4]=le.fit_transform(train_data.iloc[:, 3:4])"
      ],
      "execution_count": 9,
      "outputs": [
        {
          "output_type": "stream",
          "name": "stderr",
          "text": [
            "/usr/local/lib/python3.7/dist-packages/sklearn/preprocessing/_label.py:251: DataConversionWarning: A column-vector y was passed when a 1d array was expected. Please change the shape of y to (n_samples, ), for example using ravel().\n",
            "  y = column_or_1d(y, warn=True)\n"
          ]
        }
      ]
    },
    {
      "cell_type": "code",
      "metadata": {
        "colab": {
          "base_uri": "https://localhost:8080/",
          "height": 142
        },
        "id": "auca8909C8Ex",
        "outputId": "99d73a24-6b7f-4d09-c6a6-5743a79d8b9b"
      },
      "source": [
        "train_data.head(3)"
      ],
      "execution_count": 10,
      "outputs": [
        {
          "output_type": "execute_result",
          "data": {
            "text/html": [
              "<div>\n",
              "<style scoped>\n",
              "    .dataframe tbody tr th:only-of-type {\n",
              "        vertical-align: middle;\n",
              "    }\n",
              "\n",
              "    .dataframe tbody tr th {\n",
              "        vertical-align: top;\n",
              "    }\n",
              "\n",
              "    .dataframe thead th {\n",
              "        text-align: right;\n",
              "    }\n",
              "</style>\n",
              "<table border=\"1\" class=\"dataframe\">\n",
              "  <thead>\n",
              "    <tr style=\"text-align: right;\">\n",
              "      <th></th>\n",
              "      <th>user</th>\n",
              "      <th>sku</th>\n",
              "      <th>category</th>\n",
              "      <th>query</th>\n",
              "      <th>click_time</th>\n",
              "      <th>query_time</th>\n",
              "    </tr>\n",
              "  </thead>\n",
              "  <tbody>\n",
              "    <tr>\n",
              "      <th>0</th>\n",
              "      <td>0001cd0d10bbc585c9ba287c963e00873d4c0bfd</td>\n",
              "      <td>2032076</td>\n",
              "      <td>abcat0701002</td>\n",
              "      <td>4446</td>\n",
              "      <td>2011-10-09 17:22:56.101</td>\n",
              "      <td>2011-10-09 17:21:42.917</td>\n",
              "    </tr>\n",
              "    <tr>\n",
              "      <th>1</th>\n",
              "      <td>00033dbced6acd3626c4b56ff5c55b8d69911681</td>\n",
              "      <td>9854804</td>\n",
              "      <td>abcat0701002</td>\n",
              "      <td>1419</td>\n",
              "      <td>2011-09-25 13:35:42.198</td>\n",
              "      <td>2011-09-25 13:35:33.234</td>\n",
              "    </tr>\n",
              "    <tr>\n",
              "      <th>2</th>\n",
              "      <td>00033dbced6acd3626c4b56ff5c55b8d69911681</td>\n",
              "      <td>2670133</td>\n",
              "      <td>abcat0701002</td>\n",
              "      <td>1419</td>\n",
              "      <td>2011-09-25 13:36:08.668</td>\n",
              "      <td>2011-09-25 13:35:33.234</td>\n",
              "    </tr>\n",
              "  </tbody>\n",
              "</table>\n",
              "</div>"
            ],
            "text/plain": [
              "                                       user  ...               query_time\n",
              "0  0001cd0d10bbc585c9ba287c963e00873d4c0bfd  ...  2011-10-09 17:21:42.917\n",
              "1  00033dbced6acd3626c4b56ff5c55b8d69911681  ...  2011-09-25 13:35:33.234\n",
              "2  00033dbced6acd3626c4b56ff5c55b8d69911681  ...  2011-09-25 13:35:33.234\n",
              "\n",
              "[3 rows x 6 columns]"
            ]
          },
          "metadata": {},
          "execution_count": 10
        }
      ]
    },
    {
      "cell_type": "code",
      "metadata": {
        "id": "iuvHsjWh9JpM"
      },
      "source": [
        "X=train_data.iloc[:, 3:4].values\n",
        "Y=train_data.iloc[:, 1].values"
      ],
      "execution_count": 11,
      "outputs": []
    },
    {
      "cell_type": "code",
      "metadata": {
        "id": "WJXyc4229mJM",
        "colab": {
          "base_uri": "https://localhost:8080/"
        },
        "outputId": "9292cb31-5563-46fb-c656-9742affb5770"
      },
      "source": [
        "print(X, Y)"
      ],
      "execution_count": 12,
      "outputs": [
        {
          "output_type": "stream",
          "name": "stdout",
          "text": [
            "[[4446]\n",
            " [1419]\n",
            " [1419]\n",
            " ...\n",
            " [ 256]\n",
            " [  67]\n",
            " [1904]] [2032076 9854804 2670133 ... 3046603 2340293 2953607]\n"
          ]
        }
      ]
    },
    {
      "cell_type": "code",
      "metadata": {
        "id": "Fd902u9oAkbV"
      },
      "source": [
        "sp_train_x, sp_test_x, sp_train_y, sp_test_y=train_test_split(X, Y, test_size=0.25 ,random_state=0)"
      ],
      "execution_count": 13,
      "outputs": []
    },
    {
      "cell_type": "markdown",
      "metadata": {
        "id": "laIp6PZGEW3a"
      },
      "source": [
        "### 1. SVC "
      ]
    },
    {
      "cell_type": "code",
      "metadata": {
        "id": "OqbejJc-58wX"
      },
      "source": [
        "from sklearn.svm import SVC\n",
        "from sklearn.metrics import accuracy_score, confusion_matrix"
      ],
      "execution_count": 14,
      "outputs": []
    },
    {
      "cell_type": "code",
      "metadata": {
        "id": "OKKjJq5J5jB0",
        "colab": {
          "base_uri": "https://localhost:8080/"
        },
        "outputId": "63495824-533d-4420-e83c-9eef129267e9"
      },
      "source": [
        "classifier=SVC(kernel='rbf', random_state=0)\n",
        "classifier.fit(sp_train_x, sp_train_y)"
      ],
      "execution_count": 15,
      "outputs": [
        {
          "output_type": "execute_result",
          "data": {
            "text/plain": [
              "SVC(C=1.0, break_ties=False, cache_size=200, class_weight=None, coef0=0.0,\n",
              "    decision_function_shape='ovr', degree=3, gamma='scale', kernel='rbf',\n",
              "    max_iter=-1, probability=False, random_state=0, shrinking=True, tol=0.001,\n",
              "    verbose=False)"
            ]
          },
          "metadata": {},
          "execution_count": 15
        }
      ]
    },
    {
      "cell_type": "code",
      "metadata": {
        "id": "rujacAYZ6SAg"
      },
      "source": [
        "sp_y_pred=classifier.predict(sp_test_x)"
      ],
      "execution_count": 16,
      "outputs": []
    },
    {
      "cell_type": "code",
      "metadata": {
        "colab": {
          "base_uri": "https://localhost:8080/"
        },
        "id": "74GTPvS-AdyM",
        "outputId": "3ef7fbfd-0515-4f85-f828-4de855ac5b3a"
      },
      "source": [
        "ac=accuracy_score(sp_test_y, sp_y_pred)\n",
        "print(ac)"
      ],
      "execution_count": 17,
      "outputs": [
        {
          "output_type": "stream",
          "name": "stdout",
          "text": [
            "0.2952228096676737\n"
          ]
        }
      ]
    },
    {
      "cell_type": "markdown",
      "metadata": {
        "id": "VHf-U-6REaJ3"
      },
      "source": [
        "### 2. Decision Tree"
      ]
    },
    {
      "cell_type": "code",
      "metadata": {
        "colab": {
          "base_uri": "https://localhost:8080/"
        },
        "id": "ej_mxuOcEdbF",
        "outputId": "457264d5-8e2f-459f-e26b-f68d46bcbc58"
      },
      "source": [
        "from sklearn.tree import DecisionTreeClassifier\n",
        "classifier1 = DecisionTreeClassifier(criterion = 'entropy',random_state=0)\n",
        "classifier1.fit(sp_train_x, sp_train_y)"
      ],
      "execution_count": 18,
      "outputs": [
        {
          "output_type": "execute_result",
          "data": {
            "text/plain": [
              "DecisionTreeClassifier(ccp_alpha=0.0, class_weight=None, criterion='entropy',\n",
              "                       max_depth=None, max_features=None, max_leaf_nodes=None,\n",
              "                       min_impurity_decrease=0.0, min_impurity_split=None,\n",
              "                       min_samples_leaf=1, min_samples_split=2,\n",
              "                       min_weight_fraction_leaf=0.0, presort='deprecated',\n",
              "                       random_state=0, splitter='best')"
            ]
          },
          "metadata": {},
          "execution_count": 18
        }
      ]
    },
    {
      "cell_type": "code",
      "metadata": {
        "id": "Yo10rtyNE3lc"
      },
      "source": [
        "sp_y_pred_1=classifier1.predict(sp_test_x)"
      ],
      "execution_count": 19,
      "outputs": []
    },
    {
      "cell_type": "code",
      "metadata": {
        "colab": {
          "base_uri": "https://localhost:8080/"
        },
        "id": "0Lz005XRGVzu",
        "outputId": "07992db6-d938-47fc-ee2b-96504db5ca70"
      },
      "source": [
        "ac_1=accuracy_score(sp_test_y, sp_y_pred_1)\n",
        "print(ac_1)"
      ],
      "execution_count": 20,
      "outputs": [
        {
          "output_type": "stream",
          "name": "stdout",
          "text": [
            "0.6203738670694864\n"
          ]
        }
      ]
    },
    {
      "cell_type": "markdown",
      "metadata": {
        "id": "xk0zAJouG7R8"
      },
      "source": [
        "### 3. Random Forest"
      ]
    },
    {
      "cell_type": "code",
      "metadata": {
        "colab": {
          "base_uri": "https://localhost:8080/"
        },
        "id": "BxZilgxTG_Kl",
        "outputId": "c7a3660e-0aed-4ac7-f21d-3ae6f3992e40"
      },
      "source": [
        "from sklearn.ensemble import RandomForestClassifier\n",
        "classifier2 = RandomForestClassifier(n_estimators= 100, criterion = 'entropy', random_state=0)\n",
        "classifier2.fit(sp_train_x, sp_train_y)"
      ],
      "execution_count": 21,
      "outputs": [
        {
          "output_type": "execute_result",
          "data": {
            "text/plain": [
              "RandomForestClassifier(bootstrap=True, ccp_alpha=0.0, class_weight=None,\n",
              "                       criterion='entropy', max_depth=None, max_features='auto',\n",
              "                       max_leaf_nodes=None, max_samples=None,\n",
              "                       min_impurity_decrease=0.0, min_impurity_split=None,\n",
              "                       min_samples_leaf=1, min_samples_split=2,\n",
              "                       min_weight_fraction_leaf=0.0, n_estimators=100,\n",
              "                       n_jobs=None, oob_score=False, random_state=0, verbose=0,\n",
              "                       warm_start=False)"
            ]
          },
          "metadata": {},
          "execution_count": 21
        }
      ]
    },
    {
      "cell_type": "code",
      "metadata": {
        "id": "gOT8zhVpHVO2"
      },
      "source": [
        "sp_y_pred_2=classifier2.predict(sp_test_x)"
      ],
      "execution_count": 22,
      "outputs": []
    },
    {
      "cell_type": "code",
      "metadata": {
        "colab": {
          "base_uri": "https://localhost:8080/"
        },
        "id": "sXibUBdDHjf_",
        "outputId": "88d359e8-4a1e-4529-f79f-756d84597213"
      },
      "source": [
        "ac_2=accuracy_score(sp_test_y, sp_y_pred_2)\n",
        "print(ac_2)"
      ],
      "execution_count": 23,
      "outputs": [
        {
          "output_type": "stream",
          "name": "stdout",
          "text": [
            "0.620845921450151\n"
          ]
        }
      ]
    }
  ]
}
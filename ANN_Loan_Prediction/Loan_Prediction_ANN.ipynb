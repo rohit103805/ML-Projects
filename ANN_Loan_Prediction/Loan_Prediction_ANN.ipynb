{
  "nbformat": 4,
  "nbformat_minor": 0,
  "metadata": {
    "colab": {
      "name": "Loan_Prediction_ANN.ipynb",
      "provenance": [],
      "collapsed_sections": []
    },
    "kernelspec": {
      "name": "python3",
      "display_name": "Python 3"
    },
    "language_info": {
      "name": "python"
    }
  },
  "cells": [
    {
      "cell_type": "markdown",
      "metadata": {
        "id": "UjFVJphPSZ7S"
      },
      "source": [
        "# Loan Prediction"
      ]
    },
    {
      "cell_type": "markdown",
      "metadata": {
        "id": "PHTq9iUrSgQ6"
      },
      "source": [
        "## Importing the libraries"
      ]
    },
    {
      "cell_type": "code",
      "metadata": {
        "id": "eyq8S0r2VGBd"
      },
      "source": [
        "import numpy as np\n",
        "import pandas as pd\n",
        "import tensorflow as tf"
      ],
      "execution_count": 1,
      "outputs": []
    },
    {
      "cell_type": "markdown",
      "metadata": {
        "id": "WiKJGCM6Sq7-"
      },
      "source": [
        "## Part-1 Data Preprocessing"
      ]
    },
    {
      "cell_type": "markdown",
      "metadata": {
        "id": "xMSY09oES3hs"
      },
      "source": [
        "### Importing the dataset"
      ]
    },
    {
      "cell_type": "code",
      "metadata": {
        "id": "bzmM6UFaVQyL"
      },
      "source": [
        "dataset=pd.read_csv('Training Set.csv')\n",
        "X=dataset.iloc[:, 1:-1].values\n",
        "Y=dataset.iloc[:, -1].values"
      ],
      "execution_count": 2,
      "outputs": []
    },
    {
      "cell_type": "code",
      "metadata": {
        "colab": {
          "base_uri": "https://localhost:8080/"
        },
        "id": "Cr7bhLqJWw2A",
        "outputId": "79e7a12c-32f6-4f35-a034-0ec4143f0d14"
      },
      "source": [
        "print(X)"
      ],
      "execution_count": 3,
      "outputs": [
        {
          "output_type": "stream",
          "text": [
            "[['Male' 'No' 0.0 ... 360.0 1.0 'Urban']\n",
            " ['Male' 'Yes' 1.0 ... 360.0 1.0 'Rural']\n",
            " ['Male' 'Yes' 0.0 ... 360.0 1.0 'Urban']\n",
            " ...\n",
            " ['Male' 'Yes' 1.0 ... 360.0 1.0 'Urban']\n",
            " ['Male' 'Yes' 2.0 ... 360.0 1.0 'Urban']\n",
            " ['Female' 'No' 0.0 ... 360.0 0.0 'Semiurban']]\n"
          ],
          "name": "stdout"
        }
      ]
    },
    {
      "cell_type": "markdown",
      "metadata": {
        "id": "1nwDkND_VDHT"
      },
      "source": [
        "### Taking care of missing data"
      ]
    },
    {
      "cell_type": "code",
      "metadata": {
        "id": "BIqPq7X_WBDM"
      },
      "source": [
        "from sklearn.impute import SimpleImputer\n",
        "imputer=SimpleImputer(missing_values=np.nan, strategy='most_frequent')\n",
        "X=imputer.fit_transform(X)"
      ],
      "execution_count": 4,
      "outputs": []
    },
    {
      "cell_type": "code",
      "metadata": {
        "colab": {
          "base_uri": "https://localhost:8080/"
        },
        "id": "GA0eukTAW2T8",
        "outputId": "e938209b-dcff-4e91-e294-5562891cb50f"
      },
      "source": [
        "print(X)"
      ],
      "execution_count": 5,
      "outputs": [
        {
          "output_type": "stream",
          "text": [
            "[['Male' 'No' 0.0 ... 360.0 1.0 'Urban']\n",
            " ['Male' 'Yes' 1.0 ... 360.0 1.0 'Rural']\n",
            " ['Male' 'Yes' 0.0 ... 360.0 1.0 'Urban']\n",
            " ...\n",
            " ['Male' 'Yes' 1.0 ... 360.0 1.0 'Urban']\n",
            " ['Male' 'Yes' 2.0 ... 360.0 1.0 'Urban']\n",
            " ['Female' 'No' 0.0 ... 360.0 0.0 'Semiurban']]\n"
          ],
          "name": "stdout"
        }
      ]
    },
    {
      "cell_type": "markdown",
      "metadata": {
        "id": "dJK_9F_8S6fy"
      },
      "source": [
        "### Encoding Categorical Datas"
      ]
    },
    {
      "cell_type": "markdown",
      "metadata": {
        "id": "-IVFZV-8XkL8"
      },
      "source": [
        "#### Label Encoding"
      ]
    },
    {
      "cell_type": "code",
      "metadata": {
        "id": "zpEXNK6DW70K"
      },
      "source": [
        "from sklearn.preprocessing import LabelEncoder"
      ],
      "execution_count": 6,
      "outputs": []
    },
    {
      "cell_type": "code",
      "metadata": {
        "id": "oiigcnQVXKDn"
      },
      "source": [
        "le_1=LabelEncoder()\n",
        "X[:, 0]=le_1.fit_transform(X[:, 0])"
      ],
      "execution_count": 7,
      "outputs": []
    },
    {
      "cell_type": "code",
      "metadata": {
        "id": "ZoK2lMb0YD-i"
      },
      "source": [
        "le_2=LabelEncoder()\n",
        "X[:, 1]=le_2.fit_transform(X[:, 1])"
      ],
      "execution_count": 8,
      "outputs": []
    },
    {
      "cell_type": "code",
      "metadata": {
        "id": "1a0-dYHyaXsn"
      },
      "source": [
        "le_3=LabelEncoder()\n",
        "X[:, 3]=le_3.fit_transform(X[:, 3])"
      ],
      "execution_count": 9,
      "outputs": []
    },
    {
      "cell_type": "code",
      "metadata": {
        "id": "kdJGwya3aviR"
      },
      "source": [
        "le_4=LabelEncoder()\n",
        "X[:, 4]=le_4.fit_transform(X[:, 4])"
      ],
      "execution_count": 10,
      "outputs": []
    },
    {
      "cell_type": "code",
      "metadata": {
        "id": "IQCXdNUQbmi0"
      },
      "source": [
        "le_Y=LabelEncoder()\n",
        "Y=le_Y.fit_transform(Y)"
      ],
      "execution_count": 11,
      "outputs": []
    },
    {
      "cell_type": "markdown",
      "metadata": {
        "id": "qjT5eHl6bDbO"
      },
      "source": [
        "#### One Hot Encoding"
      ]
    },
    {
      "cell_type": "code",
      "metadata": {
        "colab": {
          "base_uri": "https://localhost:8080/"
        },
        "id": "fYG7DOY7bG1U",
        "outputId": "f2b17189-7d24-4def-9190-7eec00013af4"
      },
      "source": [
        "from sklearn.compose import ColumnTransformer\n",
        "from sklearn.preprocessing import OneHotEncoder\n",
        "ct=ColumnTransformer(transformers=[('encoder', OneHotEncoder(), [10])], remainder='passthrough')\n",
        "X=np.array(ct.fit_transform(X))\n",
        "print(X)"
      ],
      "execution_count": 12,
      "outputs": [
        {
          "output_type": "stream",
          "text": [
            "[[0.0 0.0 1.0 ... 120.0 360.0 1.0]\n",
            " [1.0 0.0 0.0 ... 128.0 360.0 1.0]\n",
            " [0.0 0.0 1.0 ... 66.0 360.0 1.0]\n",
            " ...\n",
            " [0.0 0.0 1.0 ... 253.0 360.0 1.0]\n",
            " [0.0 0.0 1.0 ... 187.0 360.0 1.0]\n",
            " [0.0 1.0 0.0 ... 133.0 360.0 0.0]]\n"
          ],
          "name": "stdout"
        }
      ]
    },
    {
      "cell_type": "markdown",
      "metadata": {
        "id": "RZ-d5FL3S96A"
      },
      "source": [
        "### Splitting the Dataset"
      ]
    },
    {
      "cell_type": "code",
      "metadata": {
        "id": "_iQ1EeZqbyER"
      },
      "source": [
        "from sklearn.model_selection import train_test_split\n",
        "X_train, X_test, Y_train, Y_test=train_test_split(X, Y, test_size=0.2, random_state=0)"
      ],
      "execution_count": 13,
      "outputs": []
    },
    {
      "cell_type": "markdown",
      "metadata": {
        "id": "sCVBuPdgTCSM"
      },
      "source": [
        "### Feature Scaling"
      ]
    },
    {
      "cell_type": "code",
      "metadata": {
        "id": "IT5DvmeHb5HY"
      },
      "source": [
        "from sklearn.preprocessing import StandardScaler\n",
        "sc=StandardScaler()\n",
        "X_train=sc.fit_transform(X_train)\n",
        "X_test=sc.transform(X_test)"
      ],
      "execution_count": 14,
      "outputs": []
    },
    {
      "cell_type": "markdown",
      "metadata": {
        "id": "fon5Kx0DTEZV"
      },
      "source": [
        "## Part-2 Building the ANN"
      ]
    },
    {
      "cell_type": "markdown",
      "metadata": {
        "id": "3jGE76mjTJtQ"
      },
      "source": [
        "### Initializing the ANN"
      ]
    },
    {
      "cell_type": "code",
      "metadata": {
        "id": "4zgJJPuxb-1o"
      },
      "source": [
        "ann=tf.keras.models.Sequential()"
      ],
      "execution_count": 15,
      "outputs": []
    },
    {
      "cell_type": "markdown",
      "metadata": {
        "id": "DnZxck4YTN7x"
      },
      "source": [
        "### Adding the input layer and the first hidden layer"
      ]
    },
    {
      "cell_type": "code",
      "metadata": {
        "id": "Vmvio0O_cKzy"
      },
      "source": [
        "ann.add(tf.keras.layers.Dense(units=6, activation='relu'))"
      ],
      "execution_count": 16,
      "outputs": []
    },
    {
      "cell_type": "markdown",
      "metadata": {
        "id": "kqYP1FWkTTEU"
      },
      "source": [
        "### Adding the second hidden layer"
      ]
    },
    {
      "cell_type": "code",
      "metadata": {
        "id": "4L-_NIwccZWp"
      },
      "source": [
        "ann.add(tf.keras.layers.Dense(units=6, activation='relu'))"
      ],
      "execution_count": 17,
      "outputs": []
    },
    {
      "cell_type": "markdown",
      "metadata": {
        "id": "NZcgAnOATY0Q"
      },
      "source": [
        "### Adding the output layer"
      ]
    },
    {
      "cell_type": "code",
      "metadata": {
        "id": "fWzCYX0xcawD"
      },
      "source": [
        "ann.add(tf.keras.layers.Dense(units=1, activation='sigmoid'))"
      ],
      "execution_count": 18,
      "outputs": []
    },
    {
      "cell_type": "markdown",
      "metadata": {
        "id": "T6mQvVf-TdvS"
      },
      "source": [
        "## Part-3 Training the ANN"
      ]
    },
    {
      "cell_type": "markdown",
      "metadata": {
        "id": "XfKYcdyBTiS8"
      },
      "source": [
        "### Compiling the ANN"
      ]
    },
    {
      "cell_type": "code",
      "metadata": {
        "id": "-Dp3PfRJcgnQ"
      },
      "source": [
        "ann.compile(optimizer='adam', loss='binary_crossentropy', metrics=['accuracy'])"
      ],
      "execution_count": 19,
      "outputs": []
    },
    {
      "cell_type": "markdown",
      "metadata": {
        "id": "rY7_HdMxTo2M"
      },
      "source": [
        "### Training the ANN on the Training Set"
      ]
    },
    {
      "cell_type": "code",
      "metadata": {
        "colab": {
          "base_uri": "https://localhost:8080/"
        },
        "id": "ZFSQgeIxc1xn",
        "outputId": "f4712a1c-e827-4616-ea89-8d2707e646e0"
      },
      "source": [
        "ann.fit(X_train, Y_train, batch_size=32, epochs=100)"
      ],
      "execution_count": 20,
      "outputs": [
        {
          "output_type": "stream",
          "text": [
            "Epoch 1/100\n",
            "16/16 [==============================] - 1s 1ms/step - loss: 1.0843 - accuracy: 0.3539\n",
            "Epoch 2/100\n",
            "16/16 [==============================] - 0s 1ms/step - loss: 0.9968 - accuracy: 0.3353\n",
            "Epoch 3/100\n",
            "16/16 [==============================] - 0s 1ms/step - loss: 0.9519 - accuracy: 0.2881\n",
            "Epoch 4/100\n",
            "16/16 [==============================] - 0s 1ms/step - loss: 0.8826 - accuracy: 0.3136\n",
            "Epoch 5/100\n",
            "16/16 [==============================] - 0s 1ms/step - loss: 0.8156 - accuracy: 0.3539\n",
            "Epoch 6/100\n",
            "16/16 [==============================] - 0s 1ms/step - loss: 0.7843 - accuracy: 0.3803\n",
            "Epoch 7/100\n",
            "16/16 [==============================] - 0s 1ms/step - loss: 0.7558 - accuracy: 0.4194\n",
            "Epoch 8/100\n",
            "16/16 [==============================] - 0s 2ms/step - loss: 0.7206 - accuracy: 0.4465\n",
            "Epoch 9/100\n",
            "16/16 [==============================] - 0s 1ms/step - loss: 0.7108 - accuracy: 0.4354\n",
            "Epoch 10/100\n",
            "16/16 [==============================] - 0s 1ms/step - loss: 0.7029 - accuracy: 0.4574\n",
            "Epoch 11/100\n",
            "16/16 [==============================] - 0s 1ms/step - loss: 0.6849 - accuracy: 0.4981\n",
            "Epoch 12/100\n",
            "16/16 [==============================] - 0s 1ms/step - loss: 0.6753 - accuracy: 0.5433\n",
            "Epoch 13/100\n",
            "16/16 [==============================] - 0s 1ms/step - loss: 0.6600 - accuracy: 0.5780\n",
            "Epoch 14/100\n",
            "16/16 [==============================] - 0s 1ms/step - loss: 0.6525 - accuracy: 0.6411\n",
            "Epoch 15/100\n",
            "16/16 [==============================] - 0s 1ms/step - loss: 0.6302 - accuracy: 0.6940\n",
            "Epoch 16/100\n",
            "16/16 [==============================] - 0s 1ms/step - loss: 0.6210 - accuracy: 0.7393\n",
            "Epoch 17/100\n",
            "16/16 [==============================] - 0s 1ms/step - loss: 0.6315 - accuracy: 0.7032\n",
            "Epoch 18/100\n",
            "16/16 [==============================] - 0s 1ms/step - loss: 0.6370 - accuracy: 0.7065\n",
            "Epoch 19/100\n",
            "16/16 [==============================] - 0s 1ms/step - loss: 0.6234 - accuracy: 0.7202\n",
            "Epoch 20/100\n",
            "16/16 [==============================] - 0s 1ms/step - loss: 0.5863 - accuracy: 0.7722\n",
            "Epoch 21/100\n",
            "16/16 [==============================] - 0s 2ms/step - loss: 0.6026 - accuracy: 0.7525\n",
            "Epoch 22/100\n",
            "16/16 [==============================] - 0s 1ms/step - loss: 0.5889 - accuracy: 0.7698\n",
            "Epoch 23/100\n",
            "16/16 [==============================] - 0s 2ms/step - loss: 0.5892 - accuracy: 0.7649\n",
            "Epoch 24/100\n",
            "16/16 [==============================] - 0s 2ms/step - loss: 0.5824 - accuracy: 0.7572\n",
            "Epoch 25/100\n",
            "16/16 [==============================] - 0s 1ms/step - loss: 0.5807 - accuracy: 0.7441\n",
            "Epoch 26/100\n",
            "16/16 [==============================] - 0s 1ms/step - loss: 0.5474 - accuracy: 0.7811\n",
            "Epoch 27/100\n",
            "16/16 [==============================] - 0s 1ms/step - loss: 0.5457 - accuracy: 0.7767\n",
            "Epoch 28/100\n",
            "16/16 [==============================] - 0s 2ms/step - loss: 0.5425 - accuracy: 0.7810\n",
            "Epoch 29/100\n",
            "16/16 [==============================] - 0s 1ms/step - loss: 0.5335 - accuracy: 0.7930\n",
            "Epoch 30/100\n",
            "16/16 [==============================] - 0s 1ms/step - loss: 0.5455 - accuracy: 0.7561\n",
            "Epoch 31/100\n",
            "16/16 [==============================] - 0s 2ms/step - loss: 0.5323 - accuracy: 0.7771\n",
            "Epoch 32/100\n",
            "16/16 [==============================] - 0s 1ms/step - loss: 0.5073 - accuracy: 0.7868\n",
            "Epoch 33/100\n",
            "16/16 [==============================] - 0s 1ms/step - loss: 0.5133 - accuracy: 0.7927\n",
            "Epoch 34/100\n",
            "16/16 [==============================] - 0s 1ms/step - loss: 0.4932 - accuracy: 0.7965\n",
            "Epoch 35/100\n",
            "16/16 [==============================] - 0s 1ms/step - loss: 0.5370 - accuracy: 0.7637\n",
            "Epoch 36/100\n",
            "16/16 [==============================] - 0s 1ms/step - loss: 0.4865 - accuracy: 0.8029\n",
            "Epoch 37/100\n",
            "16/16 [==============================] - 0s 1ms/step - loss: 0.4773 - accuracy: 0.7991\n",
            "Epoch 38/100\n",
            "16/16 [==============================] - 0s 1ms/step - loss: 0.4787 - accuracy: 0.8049\n",
            "Epoch 39/100\n",
            "16/16 [==============================] - 0s 1ms/step - loss: 0.4623 - accuracy: 0.8113\n",
            "Epoch 40/100\n",
            "16/16 [==============================] - 0s 1ms/step - loss: 0.4954 - accuracy: 0.7752\n",
            "Epoch 41/100\n",
            "16/16 [==============================] - 0s 1ms/step - loss: 0.4697 - accuracy: 0.8048\n",
            "Epoch 42/100\n",
            "16/16 [==============================] - 0s 1ms/step - loss: 0.4757 - accuracy: 0.8027\n",
            "Epoch 43/100\n",
            "16/16 [==============================] - 0s 1ms/step - loss: 0.4700 - accuracy: 0.8168\n",
            "Epoch 44/100\n",
            "16/16 [==============================] - 0s 2ms/step - loss: 0.4625 - accuracy: 0.8099\n",
            "Epoch 45/100\n",
            "16/16 [==============================] - 0s 1ms/step - loss: 0.4698 - accuracy: 0.8067\n",
            "Epoch 46/100\n",
            "16/16 [==============================] - 0s 2ms/step - loss: 0.4613 - accuracy: 0.8130\n",
            "Epoch 47/100\n",
            "16/16 [==============================] - 0s 1ms/step - loss: 0.4857 - accuracy: 0.7998\n",
            "Epoch 48/100\n",
            "16/16 [==============================] - 0s 1ms/step - loss: 0.4518 - accuracy: 0.8127\n",
            "Epoch 49/100\n",
            "16/16 [==============================] - 0s 1ms/step - loss: 0.4474 - accuracy: 0.8096\n",
            "Epoch 50/100\n",
            "16/16 [==============================] - 0s 1ms/step - loss: 0.4938 - accuracy: 0.7814\n",
            "Epoch 51/100\n",
            "16/16 [==============================] - 0s 1ms/step - loss: 0.4744 - accuracy: 0.8038\n",
            "Epoch 52/100\n",
            "16/16 [==============================] - 0s 1ms/step - loss: 0.4644 - accuracy: 0.8005\n",
            "Epoch 53/100\n",
            "16/16 [==============================] - 0s 1ms/step - loss: 0.5027 - accuracy: 0.7720\n",
            "Epoch 54/100\n",
            "16/16 [==============================] - 0s 1ms/step - loss: 0.4696 - accuracy: 0.7949\n",
            "Epoch 55/100\n",
            "16/16 [==============================] - 0s 1ms/step - loss: 0.4747 - accuracy: 0.8003\n",
            "Epoch 56/100\n",
            "16/16 [==============================] - 0s 1ms/step - loss: 0.4281 - accuracy: 0.8189\n",
            "Epoch 57/100\n",
            "16/16 [==============================] - 0s 1ms/step - loss: 0.4637 - accuracy: 0.8009\n",
            "Epoch 58/100\n",
            "16/16 [==============================] - 0s 1ms/step - loss: 0.4794 - accuracy: 0.7990\n",
            "Epoch 59/100\n",
            "16/16 [==============================] - 0s 1ms/step - loss: 0.4689 - accuracy: 0.8072\n",
            "Epoch 60/100\n",
            "16/16 [==============================] - 0s 1ms/step - loss: 0.4758 - accuracy: 0.8002\n",
            "Epoch 61/100\n",
            "16/16 [==============================] - 0s 2ms/step - loss: 0.4683 - accuracy: 0.8002\n",
            "Epoch 62/100\n",
            "16/16 [==============================] - 0s 1ms/step - loss: 0.4523 - accuracy: 0.8125\n",
            "Epoch 63/100\n",
            "16/16 [==============================] - 0s 1ms/step - loss: 0.4965 - accuracy: 0.7814\n",
            "Epoch 64/100\n",
            "16/16 [==============================] - 0s 1ms/step - loss: 0.4351 - accuracy: 0.8269\n",
            "Epoch 65/100\n",
            "16/16 [==============================] - 0s 1ms/step - loss: 0.4545 - accuracy: 0.8081\n",
            "Epoch 66/100\n",
            "16/16 [==============================] - 0s 1ms/step - loss: 0.4956 - accuracy: 0.7782\n",
            "Epoch 67/100\n",
            "16/16 [==============================] - 0s 2ms/step - loss: 0.4324 - accuracy: 0.8293\n",
            "Epoch 68/100\n",
            "16/16 [==============================] - 0s 1ms/step - loss: 0.4989 - accuracy: 0.7910\n",
            "Epoch 69/100\n",
            "16/16 [==============================] - 0s 1ms/step - loss: 0.4280 - accuracy: 0.8096\n",
            "Epoch 70/100\n",
            "16/16 [==============================] - 0s 1ms/step - loss: 0.5130 - accuracy: 0.7706\n",
            "Epoch 71/100\n",
            "16/16 [==============================] - 0s 2ms/step - loss: 0.4245 - accuracy: 0.8238\n",
            "Epoch 72/100\n",
            "16/16 [==============================] - 0s 1ms/step - loss: 0.4422 - accuracy: 0.8168\n",
            "Epoch 73/100\n",
            "16/16 [==============================] - 0s 1ms/step - loss: 0.4431 - accuracy: 0.8174\n",
            "Epoch 74/100\n",
            "16/16 [==============================] - 0s 1ms/step - loss: 0.4449 - accuracy: 0.8145\n",
            "Epoch 75/100\n",
            "16/16 [==============================] - 0s 1ms/step - loss: 0.4948 - accuracy: 0.7789\n",
            "Epoch 76/100\n",
            "16/16 [==============================] - 0s 1ms/step - loss: 0.4630 - accuracy: 0.8037\n",
            "Epoch 77/100\n",
            "16/16 [==============================] - 0s 1ms/step - loss: 0.4567 - accuracy: 0.8012\n",
            "Epoch 78/100\n",
            "16/16 [==============================] - 0s 1ms/step - loss: 0.4197 - accuracy: 0.8355\n",
            "Epoch 79/100\n",
            "16/16 [==============================] - 0s 1ms/step - loss: 0.4472 - accuracy: 0.8010\n",
            "Epoch 80/100\n",
            "16/16 [==============================] - 0s 1ms/step - loss: 0.4839 - accuracy: 0.8000\n",
            "Epoch 81/100\n",
            "16/16 [==============================] - 0s 1ms/step - loss: 0.4467 - accuracy: 0.8127\n",
            "Epoch 82/100\n",
            "16/16 [==============================] - 0s 1ms/step - loss: 0.4616 - accuracy: 0.7976\n",
            "Epoch 83/100\n",
            "16/16 [==============================] - 0s 1ms/step - loss: 0.4697 - accuracy: 0.8129\n",
            "Epoch 84/100\n",
            "16/16 [==============================] - 0s 1ms/step - loss: 0.4622 - accuracy: 0.8105\n",
            "Epoch 85/100\n",
            "16/16 [==============================] - 0s 1ms/step - loss: 0.4461 - accuracy: 0.8021\n",
            "Epoch 86/100\n",
            "16/16 [==============================] - 0s 1ms/step - loss: 0.4570 - accuracy: 0.7995\n",
            "Epoch 87/100\n",
            "16/16 [==============================] - 0s 1ms/step - loss: 0.4238 - accuracy: 0.8306\n",
            "Epoch 88/100\n",
            "16/16 [==============================] - 0s 1ms/step - loss: 0.4306 - accuracy: 0.8172\n",
            "Epoch 89/100\n",
            "16/16 [==============================] - 0s 1ms/step - loss: 0.4430 - accuracy: 0.8138\n",
            "Epoch 90/100\n",
            "16/16 [==============================] - 0s 1ms/step - loss: 0.4487 - accuracy: 0.8087\n",
            "Epoch 91/100\n",
            "16/16 [==============================] - 0s 1ms/step - loss: 0.4554 - accuracy: 0.8122\n",
            "Epoch 92/100\n",
            "16/16 [==============================] - 0s 1ms/step - loss: 0.4504 - accuracy: 0.8080\n",
            "Epoch 93/100\n",
            "16/16 [==============================] - 0s 1ms/step - loss: 0.4313 - accuracy: 0.8171\n",
            "Epoch 94/100\n",
            "16/16 [==============================] - 0s 1ms/step - loss: 0.4383 - accuracy: 0.8183\n",
            "Epoch 95/100\n",
            "16/16 [==============================] - 0s 1ms/step - loss: 0.4334 - accuracy: 0.8312\n",
            "Epoch 96/100\n",
            "16/16 [==============================] - 0s 2ms/step - loss: 0.4215 - accuracy: 0.8268\n",
            "Epoch 97/100\n",
            "16/16 [==============================] - 0s 2ms/step - loss: 0.4904 - accuracy: 0.7859\n",
            "Epoch 98/100\n",
            "16/16 [==============================] - 0s 1ms/step - loss: 0.4485 - accuracy: 0.8098\n",
            "Epoch 99/100\n",
            "16/16 [==============================] - 0s 1ms/step - loss: 0.4462 - accuracy: 0.7987\n",
            "Epoch 100/100\n",
            "16/16 [==============================] - 0s 1ms/step - loss: 0.4344 - accuracy: 0.8246\n"
          ],
          "name": "stdout"
        },
        {
          "output_type": "execute_result",
          "data": {
            "text/plain": [
              "<tensorflow.python.keras.callbacks.History at 0x7fc63dc6dc50>"
            ]
          },
          "metadata": {
            "tags": []
          },
          "execution_count": 20
        }
      ]
    },
    {
      "cell_type": "markdown",
      "metadata": {
        "id": "R8z-n2OrTvFN"
      },
      "source": [
        "## Part-4 Making the predictions and evaluating the model"
      ]
    },
    {
      "cell_type": "markdown",
      "metadata": {
        "id": "jw4BshuaT7q8"
      },
      "source": [
        "### Predicting the Test Set Results"
      ]
    },
    {
      "cell_type": "code",
      "metadata": {
        "colab": {
          "base_uri": "https://localhost:8080/"
        },
        "id": "WeH_zIGadqVz",
        "outputId": "4d57acd5-543c-4f93-84f9-b401230eb913"
      },
      "source": [
        "Y_pred=ann.predict(X_test)>0.5\n",
        "Y_pred=Y_pred.reshape(-1)\n",
        "le_Y1=LabelEncoder()\n",
        "Y_pred=le_Y1.fit_transform(Y_pred)\n",
        "for i in range(0, len(Y_test)):\n",
        "  print(Y_test[i], \"  \", Y_pred[i])"
      ],
      "execution_count": 21,
      "outputs": [
        {
          "output_type": "stream",
          "text": [
            "1    1\n",
            "0    1\n",
            "1    1\n",
            "0    1\n",
            "1    1\n",
            "0    0\n",
            "1    1\n",
            "1    1\n",
            "0    0\n",
            "1    1\n",
            "1    1\n",
            "1    1\n",
            "1    1\n",
            "1    1\n",
            "1    1\n",
            "0    1\n",
            "0    1\n",
            "1    1\n",
            "1    1\n",
            "0    0\n",
            "0    0\n",
            "1    1\n",
            "1    1\n",
            "1    1\n",
            "1    1\n",
            "1    1\n",
            "1    1\n",
            "1    1\n",
            "0    0\n",
            "0    0\n",
            "1    1\n",
            "1    1\n",
            "1    1\n",
            "1    1\n",
            "1    1\n",
            "0    0\n",
            "1    1\n",
            "1    1\n",
            "1    1\n",
            "1    1\n",
            "1    1\n",
            "0    0\n",
            "1    1\n",
            "1    1\n",
            "1    1\n",
            "1    1\n",
            "1    1\n",
            "1    1\n",
            "0    1\n",
            "1    1\n",
            "1    1\n",
            "1    1\n",
            "1    1\n",
            "1    1\n",
            "1    1\n",
            "1    1\n",
            "1    1\n",
            "0    1\n",
            "1    1\n",
            "1    1\n",
            "1    0\n",
            "0    1\n",
            "1    1\n",
            "0    0\n",
            "1    1\n",
            "1    1\n",
            "1    1\n",
            "1    1\n",
            "1    1\n",
            "1    1\n",
            "0    1\n",
            "1    1\n",
            "1    1\n",
            "1    1\n",
            "1    1\n",
            "1    1\n",
            "0    0\n",
            "0    1\n",
            "1    1\n",
            "0    0\n",
            "1    0\n",
            "0    1\n",
            "0    1\n",
            "1    1\n",
            "0    0\n",
            "1    1\n",
            "1    1\n",
            "1    1\n",
            "1    1\n",
            "1    1\n",
            "1    1\n",
            "0    1\n",
            "0    1\n",
            "0    0\n",
            "1    1\n",
            "0    0\n",
            "1    1\n",
            "1    1\n",
            "1    1\n",
            "1    1\n",
            "1    1\n",
            "1    1\n",
            "1    1\n",
            "0    1\n",
            "1    1\n",
            "1    1\n",
            "1    1\n",
            "1    1\n",
            "1    1\n",
            "0    1\n",
            "1    1\n",
            "0    1\n",
            "0    0\n",
            "1    1\n",
            "0    0\n",
            "1    0\n",
            "1    1\n",
            "1    1\n",
            "1    1\n",
            "1    1\n",
            "1    1\n",
            "0    0\n",
            "1    1\n"
          ],
          "name": "stdout"
        }
      ]
    },
    {
      "cell_type": "markdown",
      "metadata": {
        "id": "jXAwyCtjUBsS"
      },
      "source": [
        "### Making the Confusion Matrix"
      ]
    },
    {
      "cell_type": "code",
      "metadata": {
        "colab": {
          "base_uri": "https://localhost:8080/"
        },
        "id": "qiHsD4sngHQj",
        "outputId": "513e1776-231a-43e2-d2cc-11dc6b71a9e5"
      },
      "source": [
        "from sklearn.metrics import accuracy_score, confusion_matrix\n",
        "cm=confusion_matrix(Y_test, Y_pred)\n",
        "ac=accuracy_score(Y_test, Y_pred)\n",
        "print(ac*100)"
      ],
      "execution_count": 22,
      "outputs": [
        {
          "output_type": "stream",
          "text": [
            "84.5528455284553\n"
          ],
          "name": "stdout"
        }
      ]
    }
  ]
}